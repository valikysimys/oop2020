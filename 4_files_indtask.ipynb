{
 "cells": [
  {
   "cell_type": "markdown",
   "metadata": {},
   "source": [
    "## Індивідуальне завдання №1 \n",
    "Роздрукувати введений рядок по літерам "
   ]
  },
  {
   "cell_type": "code",
   "execution_count": 1,
   "metadata": {},
   "outputs": [
    {
     "name": "stdout",
     "output_type": "stream",
     "text": [
      "VALENTYN\n",
      "V\n",
      "A\n",
      "L\n",
      "E\n",
      "N\n",
      "T\n",
      "Y\n",
      "N\n"
     ]
    }
   ],
   "source": [
    "line = input()\n",
    "newline = list(line)\n",
    "for i in newline:\n",
    "    print(i)"
   ]
  },
  {
   "cell_type": "markdown",
   "metadata": {},
   "source": [
    "## Індивідуальне завдання №2\n",
    "\n",
    "Роздрукувати шаблон визначеного формату, за умови що введене число не більше 20\n",
    "\n",
    "\n",
    "    if noOfRows = 5 : якщо введене число дорівнює 5, тоді роздрукувати шаблон у вигляді: \n",
    "    \n",
    "    *\n",
    "    * *\n",
    "    * * *\n",
    "    * * * *\n",
    "    * * * * *\n"
   ]
  },
  {
   "cell_type": "code",
   "execution_count": 7,
   "metadata": {},
   "outputs": [
    {
     "name": "stdout",
     "output_type": "stream",
     "text": [
      "5\n",
      "\n",
      "*\n",
      "**\n",
      "***\n",
      "****\n",
      "*****\n"
     ]
    }
   ],
   "source": [
    "n=int(input())\n",
    "if(n<20):\n",
    "    for i in range(n+1):\n",
    "        print(\"*\"*i)"
   ]
  },
  {
   "cell_type": "markdown",
   "metadata": {},
   "source": [
    "## Індивідуальне завдання №3\n",
    "Для введеного числа: \n",
    "1. Роздрукувати парні числа, які менше введеного числа\n",
    "2. Роздрукувати непарні числа, які менше введеного числа"
   ]
  },
  {
   "cell_type": "code",
   "execution_count": 14,
   "metadata": {},
   "outputs": [
    {
     "name": "stdout",
     "output_type": "stream",
     "text": [
      "23\n",
      "Парне число менше введеного = 0\n",
      "Непарне число менше введеного = 1\n",
      "Парне число менше введеного = 2\n",
      "Непарне число менше введеного = 3\n",
      "Парне число менше введеного = 4\n",
      "Непарне число менше введеного = 5\n",
      "Парне число менше введеного = 6\n",
      "Непарне число менше введеного = 7\n",
      "Парне число менше введеного = 8\n",
      "Непарне число менше введеного = 9\n",
      "Парне число менше введеного = 10\n",
      "Непарне число менше введеного = 11\n",
      "Парне число менше введеного = 12\n",
      "Непарне число менше введеного = 13\n",
      "Парне число менше введеного = 14\n",
      "Непарне число менше введеного = 15\n",
      "Парне число менше введеного = 16\n",
      "Непарне число менше введеного = 17\n",
      "Парне число менше введеного = 18\n",
      "Непарне число менше введеного = 19\n",
      "Парне число менше введеного = 20\n",
      "Непарне число менше введеного = 21\n",
      "Парне число менше введеного = 22\n"
     ]
    }
   ],
   "source": [
    "n=int(input())\n",
    "for i in range(n):\n",
    "    if(i%2==0):\n",
    "        print(\"Парне число менше введеного =\",i)\n",
    "    elif(i%2==1):\n",
    "        print(\"Непарне число менше введеного =\",i)"
   ]
  },
  {
   "cell_type": "markdown",
   "metadata": {},
   "source": [
    "## Індивідуальне завдання №4\n",
    "Роздрукувати всі прості числа, які менше введеного числа  "
   ]
  },
  {
   "cell_type": "code",
   "execution_count": 24,
   "metadata": {
    "scrolled": true
   },
   "outputs": [
    {
     "name": "stdout",
     "output_type": "stream",
     "text": [
      "16\n",
      "2\n",
      "3\n",
      "5\n",
      "7\n",
      "11\n",
      "13\n"
     ]
    }
   ],
   "source": [
    "number=int(input())\n",
    "for num in range(2,number):\n",
    "    number = True\n",
    "    for i in range(2,num):\n",
    "        if (num%i==0):\n",
    "            number = False\n",
    "    if number:\n",
    "       print (num)"
   ]
  },
  {
   "cell_type": "markdown",
   "metadata": {},
   "source": [
    "## Індивідуальне завдання №5\n",
    "Роздрукувати введений рядок `n` разів"
   ]
  },
  {
   "cell_type": "code",
   "execution_count": 27,
   "metadata": {
    "scrolled": true
   },
   "outputs": [
    {
     "name": "stdout",
     "output_type": "stream",
     "text": [
      "rara\n",
      "4\n",
      "rara\n",
      "rara\n",
      "rara\n",
      "rara\n"
     ]
    }
   ],
   "source": [
    "line=input()\n",
    "n=int(input())\n",
    "for i in range(n):\n",
    "    print(line)"
   ]
  },
  {
   "cell_type": "markdown",
   "metadata": {},
   "source": [
    "## Індивідуальне завдання №6\n",
    "Роздрукувати суму перших `n` чисел. `n` - вводиться з клавіатури"
   ]
  },
  {
   "cell_type": "code",
   "execution_count": 29,
   "metadata": {},
   "outputs": [
    {
     "name": "stdout",
     "output_type": "stream",
     "text": [
      "5\n",
      "15\n"
     ]
    }
   ],
   "source": [
    "n=int(input())\n",
    "s=sum(range(n+1))\n",
    "print(s)"
   ]
  },
  {
   "cell_type": "markdown",
   "metadata": {},
   "source": [
    "## Індивідуальне завдання №7\n",
    "Перевірити введений пароль доступу: \n",
    "1. У випадку, коли пароль доступу введений правильно - доступ дозволений\n",
    "2. У випадку, коли пароль доступу введений невірно, перейти на повторний ввод паролю"
   ]
  },
  {
   "cell_type": "code",
   "execution_count": 33,
   "metadata": {},
   "outputs": [
    {
     "name": "stdout",
     "output_type": "stream",
     "text": [
      "1234\n",
      "OK\n"
     ]
    }
   ],
   "source": [
    "password = 1234\n",
    "passw = int(input())\n",
    "if (passw == password):\n",
    "    print(\"OK\")\n",
    "else:\n",
    "    print(\"Try again\")"
   ]
  },
  {
   "cell_type": "markdown",
   "metadata": {},
   "source": [
    "## Індивідуальне завдання №8\n",
    "Написати програму, яка видає оцінку студенту за його рейтинговими балами\n",
    "\n",
    "рейтинговий бал <0 або рейтинговий бал >100: невірно введений рейтинговий бал \n",
    "\n",
    "90< рейтинговий бал <=100: відмінно\n",
    "\n",
    "75< рейтинговий бал <=89: добре \n",
    "\n",
    "60< рейтинговий бал <=74: задовільно\n",
    "\n",
    "1< рейтинговий бал <=59: не задовільно "
   ]
  },
  {
   "cell_type": "code",
   "execution_count": 35,
   "metadata": {},
   "outputs": [
    {
     "name": "stdout",
     "output_type": "stream",
     "text": [
      "545\n",
      "Error\n"
     ]
    }
   ],
   "source": [
    "mark = int(input())\n",
    "if (mark>90 and mark <100):\n",
    "    print(\"Vidminno\")\n",
    "elif(mark<89 and mark>75):\n",
    "    print(\"Dobre\")\n",
    "elif(mark>60 and mark<74):\n",
    "    print(\"Zadovilno\")\n",
    "elif(mark>1 and mark<59):\n",
    "    print(\"Ne zadovilno\")\n",
    "else:\n",
    "    print(\"Error\")\n"
   ]
  },
  {
   "cell_type": "markdown",
   "metadata": {},
   "source": [
    "## Індивідуальне завдання №9\n",
    "Виправити помилку в коді:\n",
    "\n",
    "things = str([1, 2, 3, 4, 5])\n",
    "\n",
    "for thing in things:\n",
    "\n",
    "    print(thing)"
   ]
  },
  {
   "cell_type": "code",
   "execution_count": 41,
   "metadata": {},
   "outputs": [
    {
     "name": "stdout",
     "output_type": "stream",
     "text": [
      "1\n",
      "2\n",
      "3\n",
      "4\n",
      "5\n"
     ]
    }
   ],
   "source": [
    "# код Індивідуального завдання №9 тут (неправильний код надається)\n",
    "things = list([1, 2, 3, 4, 5])\n",
    "for thing in things:\n",
    "    print(thing)"
   ]
  },
  {
   "cell_type": "markdown",
   "metadata": {},
   "source": [
    "## Індивідуальне завдання №10\n",
    "У відповідності до введеного числа не більше 15, використовуючи вкладені цикли роздрукувати шаблон визначеного формату. Для числа 8 шаблон має наступний вигляд:\n",
    "\n",
    "## * * * * * * * *\n",
    "## * * * * * * * *\n",
    "## * * * * * * * *\n",
    "## * * * * * * * * \n",
    "## * * * * * * * *\n",
    "## * * * * * * * * \n",
    "## * * * * * * * *\n",
    "## * * * * * * * *"
   ]
  },
  {
   "cell_type": "code",
   "execution_count": 43,
   "metadata": {},
   "outputs": [
    {
     "name": "stdout",
     "output_type": "stream",
     "text": [
      "6\n",
      "******\n",
      "******\n",
      "******\n",
      "******\n",
      "******\n",
      "******\n"
     ]
    }
   ],
   "source": [
    "n = int(input())\n",
    "line =\"*\"*n\n",
    "for i in range(n):\n",
    " print(line)"
   ]
  },
  {
   "cell_type": "code",
   "execution_count": null,
   "metadata": {},
   "outputs": [],
   "source": []
  }
 ],
 "metadata": {
  "kernelspec": {
   "display_name": "conda_python3",
   "language": "python",
   "name": "conda_python3"
  },
  "language_info": {
   "codemirror_mode": {
    "name": "ipython",
    "version": 3
   },
   "file_extension": ".py",
   "mimetype": "text/x-python",
   "name": "python",
   "nbconvert_exporter": "python",
   "pygments_lexer": "ipython3",
   "version": "3.6.10"
  },
  "name": "seminar2_part1_variables_strings_numbers.ipynb"
 },
 "nbformat": 4,
 "nbformat_minor": 1
}
