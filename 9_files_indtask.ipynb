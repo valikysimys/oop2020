{
 "cells": [
  {
   "cell_type": "markdown",
   "metadata": {},
   "source": [
    "## Індивідуальне завдання №1 \n",
    "\n",
    "Прийняти участь в команді"
   ]
  },
  {
   "cell_type": "markdown",
   "metadata": {},
   "source": [
    "## Індивідуальне завдання №2\n",
    "\n",
    "Виконати завдання 1 і 2 лекції №8.\n",
    "\n",
    "1.Створити метод переводу студента на наступний курс навчання. Студент розпочинає навчання з 1-го курсу\n",
    "\n",
    "2.Після 5 років навчання видати інформацію про завершення навчання в університеті"
   ]
  },
  {
   "cell_type": "code",
   "execution_count": 4,
   "metadata": {},
   "outputs": [
    {
     "name": "stdout",
     "output_type": "stream",
     "text": [
      "Valentyn - вступив до університету в 2018 році, йому 17 \n",
      "\n",
      "Valentyn вчиться 1 рік\n",
      "Valentyn вчиться 2 роки\n",
      "Valentyn вчиться 3 роки\n",
      "Valentyn вчиться 4 роки\n",
      "Valentyn вчиться 5 років\n",
      "Valentyn - випускник 2023 року, йому 22 \n",
      "\n"
     ]
    }
   ],
   "source": [
    "def Student():\n",
    "\n",
    "    name, age, year, studyyear = \"Valentyn\", 17, 2018, 0\n",
    "\n",
    "    yearYear = \"\"\n",
    "\n",
    "    print(f'{name} - вступив до університету в {year} році, йому {age} \\n')\n",
    "\n",
    "\n",
    "    while True:\n",
    "        age += 1\n",
    "        year += 1\n",
    "        studyyear += 1\n",
    "\n",
    "        if studyyear == 6:\n",
    "            print(f'{name} - випускник {year - 1} року, йому {age - 1} \\n')\n",
    "            break\n",
    "        else:\n",
    "            if studyyear == 1:\n",
    "                yearYear = \"рік\"\n",
    "            elif studyyear == 2 or yearYear == 3 or yearYear == 4:\n",
    "                yearYear = \"роки\"\n",
    "            elif studyyear == 5:\n",
    "                yearYear = \"років\"\n",
    "        print(f'{name} вчиться {studyyear} {yearYear}')\n",
    "\n",
    "Student()"
   ]
  },
  {
   "cell_type": "markdown",
   "metadata": {},
   "source": [
    "## Індивідуальне завдання №3\n",
    "\n",
    "Виконати завдання 1 і 5 лекції №9.\n",
    "\n",
    "1. Cтворити клас (будь-якої предметної галузі). Визначити 4 методи у створеному класі.\n",
    "\n",
    "2. Застосувати визначені методи до 3-х різних екземплярів класу. Провести інтерпретацію.\n",
    "\n",
    "3. Створити один базовий клас з 3-ма власними методами.\n",
    "\n",
    "4. Створити успадкований клас з 2-ма іншими методами (ніж у базовому класі) на основі базового класу\n",
    "\n",
    "5. Створити 2 екземпляри успадкованого класу. Застосувати до цих екземплярів: 1 метод базового класу і 1 метод успадкованого класу. Методи базового і успадкованого класу повинні бути різними для різних екземплярів класу. \n",
    "\n",
    "Провести гейміфіковану інтерпретацію виконання коду. \n",
    "\n"
   ]
  },
  {
   "cell_type": "code",
   "execution_count": 12,
   "metadata": {
    "scrolled": true
   },
   "outputs": [
    {
     "name": "stdout",
     "output_type": "stream",
     "text": [
      "Ви витратили 10000 доларів на авто\n",
      "Небезпечна ізда зі швидкістю 60\n",
      "Ви хизуєтесь усім новим авто\n",
      "\n",
      "\n",
      "Ви сіли у новий Ламборгіні\n",
      "Ви іздите по місту на новенькому  Ламборгіні\n",
      "Ви розбили новенький  Ламборгіні\n",
      "\n",
      "\n",
      "Ви купили новий Феррарі за 100000 доларів\n",
      "Ви іздите по місту на новенькому  Феррарі зі швидкістю 150\n"
     ]
    }
   ],
   "source": [
    "class Cars():\n",
    "    def __init__(self, speed, price):\n",
    "        self.name = \"авто\"\n",
    "        self.price = price\n",
    "        self.speed = speed\n",
    "\n",
    "    def buy(self):\n",
    "        print(\"Ви витратили\", self.price, \"доларів на\", self.name)\n",
    "\n",
    "    def ride(self):\n",
    "        if self.speed < 50:\n",
    "            print(\"Повільно\")\n",
    "        else:\n",
    "            print(\"Небезпечна ізда зі швидкістю\",self.speed)\n",
    "            \n",
    "    def show(self):\n",
    "        print(\"Ви хизуєтесь усім новим\", self.name)\n",
    "\n",
    "class Lambo(Cars):\n",
    "    def __init__(self,price,speed):\n",
    "        self.name = \"Ламборгіні\"\n",
    "        self.price = price\n",
    "        self.speed = speed\n",
    "        \n",
    "    def sit(self):\n",
    "        print(\"Ви сіли у новий\", self.name)\n",
    "\n",
    "    def ride(self):\n",
    "        print(\"Ви іздите по місту на новенькому \", self.name)\n",
    "\n",
    "    def crash(self):\n",
    "        print(\"Ви розбили новенький \", self.name)\n",
    "\n",
    "class Ferrari(Cars):\n",
    "    def __init__(self,price,speed):\n",
    "        self.name = \"Феррарі\"\n",
    "        self.price = price\n",
    "        self.speed = speed\n",
    "\n",
    "    def buy(self):\n",
    "        print(\"Ви купили новий\", self.name, \"за\" , self.price, \"доларів\")\n",
    "\n",
    "    def drive(self):\n",
    "        print(\"Ви іздите по місту на новенькому \", self.name,\"зі швидкістю\", self.speed)\n",
    "\n",
    "c = Cars(60,10000)\n",
    "c.buy()\n",
    "c.ride()\n",
    "c.show()\n",
    "print(\"\\n\")\n",
    "\n",
    "l = Lambo(50000,120)\n",
    "l.sit()\n",
    "l.ride()\n",
    "l.crash()\n",
    "print(\"\\n\")\n",
    "\n",
    "f = Ferrari(100000,150)\n",
    "f.buy()\n",
    "f.drive()"
   ]
  },
  {
   "cell_type": "code",
   "execution_count": null,
   "metadata": {},
   "outputs": [],
   "source": []
  }
 ],
 "metadata": {
  "kernelspec": {
   "display_name": "conda_python3",
   "language": "python",
   "name": "conda_python3"
  },
  "language_info": {
   "codemirror_mode": {
    "name": "ipython",
    "version": 3
   },
   "file_extension": ".py",
   "mimetype": "text/x-python",
   "name": "python",
   "nbconvert_exporter": "python",
   "pygments_lexer": "ipython3",
   "version": "3.6.10"
  }
 },
 "nbformat": 4,
 "nbformat_minor": 4
}
