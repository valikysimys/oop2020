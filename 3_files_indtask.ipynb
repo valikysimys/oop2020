{
 "cells": [
  {
   "cell_type": "markdown",
   "metadata": {},
   "source": [
    "## Індивідуальне завдання №1\n",
    "\n",
    "Створити **вкладену структуру даних** представлення інформації працівника провідної компанії: прізвище, ім'я, по батькові, вік, університет, департамент, відділ, посада, заробітна плата, електронна адреса, номер телефону. При створенні **вкладеної структури даних** можна використовувати будь-які комбінації вивчених об'єктів (списки, кортежи, словники, рядки, числа ...).   "
   ]
  },
  {
   "cell_type": "code",
   "execution_count": 27,
   "metadata": {},
   "outputs": [],
   "source": [
    "# код Індивідуального завдання №1 тут\n",
    "\n",
    "man = {\n",
    "    'surname':\"Petrenko\",'name':\"Roman\",'fathername':\"Andriyovich\",'age':35,'univ':\"Kharkiv IT University\",\n",
    "    'depart':\"DevOps Engeneering\",'post':\"DevOps engeneer\",'salary':5000,'email':\"rarara@gmail.com\",'number':\"+999 999 999 9\"\n",
    "      }\n",
    "\n"
   ]
  },
  {
   "cell_type": "markdown",
   "metadata": {},
   "source": [
    "## Індивідуальне завдання №2\n",
    "\n",
    "Роздрукувати поля **вкладеної структури даних** (Індивідуального завдання №1) на кожному окремому рядку у зворотньому порядку. \n",
    "Чи є переваги обраних об'єктів у порівнянні з іншими для створення  **вкладеної структури даних**"
   ]
  },
  {
   "cell_type": "code",
   "execution_count": 41,
   "metadata": {},
   "outputs": [
    {
     "name": "stdout",
     "output_type": "stream",
     "text": [
      "+999 999 999 9\n",
      "rarara@gmail.com\n",
      "12000\n",
      "DevOps engeneer\n",
      "DevOps Engeneering\n",
      "Kharkiv IT University\n",
      "35\n",
      "Andriyovich\n",
      "Roman\n",
      "Petrenko\n"
     ]
    }
   ],
   "source": [
    "# код Індивідуального завдання №2 тут\n",
    "for i in reversed(list(man.values())):\n",
    "    print(i)"
   ]
  },
  {
   "cell_type": "markdown",
   "metadata": {},
   "source": [
    "## Індивідуальне завдання №3\n",
    "\n",
    "Замінити поля **вкладеної структури даних**: департамент, відділ, посада, заробітна плата, електронна адреса, номер телефону на нові значення. Роздрукувати поля у прямому порядку. "
   ]
  },
  {
   "cell_type": "code",
   "execution_count": 34,
   "metadata": {},
   "outputs": [
    {
     "name": "stdout",
     "output_type": "stream",
     "text": [
      "Petrenko\n",
      "Roman\n",
      "Andriyovich\n",
      "35\n",
      "Kharkiv IT University\n",
      "Department of Design\n",
      "Main designer\n",
      "8000\n",
      "designer@gmail.com\n",
      "+30955565656\n"
     ]
    }
   ],
   "source": [
    "# код Індивідуального завдання №3 тут\n",
    "man['depart']='Department of Design'\n",
    "man['post']='Main designer'\n",
    "man['salary']=8000\n",
    "man['email']='designer@gmail.com'\n",
    "man['number']='+30955565656'\n",
    "for i in(list(man.values())):\n",
    "    print(i)"
   ]
  },
  {
   "cell_type": "markdown",
   "metadata": {},
   "source": [
    "## Індивідуальне завдання №4\n",
    "\n",
    "Написати сценарій, який створює і відкриває для запису новий файл з назвою empl.txt. До файлу записуються всі поля оновленої **вкладеної структури даних**. Представити зміст файлу."
   ]
  },
  {
   "cell_type": "code",
   "execution_count": 37,
   "metadata": {},
   "outputs": [],
   "source": [
    "# код Індивідуального завдання №4 тут\n",
    "input = open('empl.txt', 'w')\n",
    "input.writelines(str(man))\n",
    "input.writelines(str(man.values))"
   ]
  },
  {
   "cell_type": "markdown",
   "metadata": {},
   "source": [
    "## Індивідуальне завдання №5\n",
    "\n",
    "Написати сценарій, який відкриває файл empl.txt, читає його і виводить його зміст - всі поля на кожному рядку окремо. \n"
   ]
  },
  {
   "cell_type": "code",
   "execution_count": 38,
   "metadata": {
    "scrolled": false
   },
   "outputs": [
    {
     "data": {
      "text/plain": [
       "[\"{'surname': 'Petrenko'\",\n",
       " \" 'name': 'Roman'\",\n",
       " \" 'fathername': 'Andriyovich'\",\n",
       " \" 'age': 35\",\n",
       " \" 'univ': 'Kharkiv IT University'\",\n",
       " \" 'depart': 'Department of Design'\",\n",
       " \" 'post': 'Main designer'\",\n",
       " \" 'salary': 8000\",\n",
       " \" 'email': 'designer@gmail.com'\",\n",
       " \" 'number': '+30955565656'}<built-in method values of dict object at 0x7fc59cb5b7e0>\"]"
      ]
     },
     "execution_count": 38,
     "metadata": {},
     "output_type": "execute_result"
    }
   ],
   "source": [
    "# код Індивідуального завдання №5 тут\n",
    "input = open('empl.txt', 'r')\n",
    "input.read().split(',')"
   ]
  },
  {
   "cell_type": "markdown",
   "metadata": {},
   "source": [
    "## Індивідуальне завдання №6\n",
    "\n",
    "Повернути старі значення **вкладеної структури даних**, які були оновлені в Індиідуальному завданні №3, шляхом виконання команд заміни.  \n",
    "Оновити файл empl.txt зміненим змістом **вкладеної структури даних**, тобто зі старими даними полів. \n",
    "Роздрукувати оновлений зміст файлу empl.txt. "
   ]
  },
  {
   "cell_type": "code",
   "execution_count": 39,
   "metadata": {},
   "outputs": [],
   "source": [
    "# код Індивідуального завдання №6 тут\n",
    "man['depart']=\"DevOps Engeneering\"\n",
    "man['post']=\"DevOps engeneer\"\n",
    "man['salary']=12000\n",
    "man['email']=\"rarara@gmail.com\"\n",
    "man['number']=\"+999 999 999 9\"\n",
    "\n",
    "input = open('empl.txt', 'w')\n",
    "input.writelines(str(man))\n",
    "input.writelines(str(man.values))"
   ]
  },
  {
   "cell_type": "code",
   "execution_count": null,
   "metadata": {},
   "outputs": [],
   "source": []
  }
 ],
 "metadata": {
  "kernelspec": {
   "display_name": "conda_python3",
   "language": "python",
   "name": "conda_python3"
  },
  "language_info": {
   "codemirror_mode": {
    "name": "ipython",
    "version": 3
   },
   "file_extension": ".py",
   "mimetype": "text/x-python",
   "name": "python",
   "nbconvert_exporter": "python",
   "pygments_lexer": "ipython3",
   "version": "3.6.10"
  }
 },
 "nbformat": 4,
 "nbformat_minor": 2
}
