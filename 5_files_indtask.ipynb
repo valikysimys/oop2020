{
 "cells": [
  {
   "cell_type": "markdown",
   "metadata": {},
   "source": [
    "## Індивідуальне завдання №1 \n",
    "\n",
    "Написати функцію **three_numbers**, яка повертає найменше парне число із трьох чисел, серед яких, по меншій мірі, два є парними. Інакше, повертає максимальне непарне число, якщо, по меншій мірі, два є непарними.  \n",
    "\n",
    "Тести: \n",
    "\n",
    "three_numbers(6,8,9) --> 6\n",
    "\n",
    "   three_numbers(3,5,8) --> 5"
   ]
  },
  {
   "cell_type": "code",
   "execution_count": 3,
   "metadata": {},
   "outputs": [],
   "source": [
    "# код Індивідуального завдання №1 тут\n",
    "def three_numbers(a,b,c):\n",
    "    if(a%2==0 and b%2==0):\n",
    "        if(a<b):\n",
    "            print(a)\n",
    "        elif(b<a):\n",
    "            print(b)\n",
    "        else:\n",
    "            print(\"Equalent\")\n",
    "            \n",
    "    elif(a%2==0 and c%2==0):\n",
    "        if(a<c):\n",
    "            print(a)\n",
    "        if(c<a):\n",
    "            print(c)\n",
    "        else:\n",
    "            print(\"Equalent\")\n",
    "            \n",
    "    elif (b%2==0 and c%2==0):\n",
    "        if(b<c):\n",
    "            print(b)\n",
    "        if(c<b):\n",
    "            print(c)\n",
    "        else:\n",
    "            print(\"Equalent\")\n",
    "            \n",
    "    elif(a%2==1 and b%2==1):\n",
    "        if(a<b):\n",
    "            print(b)\n",
    "        elif(b<a):\n",
    "            print(a)\n",
    "        else:\n",
    "            print(\"Equalent\")\n",
    "            \n",
    "    elif(a%2==1 and c%2==1):\n",
    "        if(a<c):\n",
    "            print(c)\n",
    "        if(c<a):\n",
    "            print(a)\n",
    "        else:\n",
    "            print(\"Equalent\")\n",
    "            \n",
    "    elif (b%2==1 and c%2==1):\n",
    "        if(b<c):\n",
    "            print(c)\n",
    "        if(c<b):\n",
    "            print(b)\n",
    "        else:\n",
    "            print(\"Equalent\")"
   ]
  },
  {
   "cell_type": "code",
   "execution_count": 4,
   "metadata": {},
   "outputs": [
    {
     "name": "stdout",
     "output_type": "stream",
     "text": [
      "6\n"
     ]
    }
   ],
   "source": [
    "three_numbers(6,8,9)"
   ]
  },
  {
   "cell_type": "code",
   "execution_count": 5,
   "metadata": {},
   "outputs": [
    {
     "name": "stdout",
     "output_type": "stream",
     "text": [
      "5\n"
     ]
    }
   ],
   "source": [
    "three_numbers(3,5,8)"
   ]
  },
  {
   "cell_type": "markdown",
   "metadata": {},
   "source": [
    "## Індивідуальне завдання №2\n",
    "\n",
    "Написати функцію **check_words**, яка, аналізуючи рядок із двох слів, повертає **True**, якщо слова розпочинаються з однакової літери. І **False**, якщо з різних літер. \n",
    "\n",
    "Тести:\n",
    "\n",
    "check_words('Привіт Першій') --> True\n",
    "\n",
    "check_words('Привіт Другій') --> False"
   ]
  },
  {
   "cell_type": "code",
   "execution_count": 6,
   "metadata": {},
   "outputs": [],
   "source": [
    "def check_words(name):\n",
    "    first, second = name.split()\n",
    "    return first[0] == second[0]"
   ]
  },
  {
   "cell_type": "code",
   "execution_count": 7,
   "metadata": {},
   "outputs": [
    {
     "data": {
      "text/plain": [
       "True"
      ]
     },
     "execution_count": 7,
     "metadata": {},
     "output_type": "execute_result"
    }
   ],
   "source": [
    "# код Індивідуального завдання №2 тут\n",
    "check_words('Привіт Першій') "
   ]
  },
  {
   "cell_type": "code",
   "execution_count": 8,
   "metadata": {},
   "outputs": [
    {
     "data": {
      "text/plain": [
       "False"
      ]
     },
     "execution_count": 8,
     "metadata": {},
     "output_type": "execute_result"
    }
   ],
   "source": [
    "# код Індивідуального завдання №2 тут\n",
    "check_words('Привіт Другій')"
   ]
  },
  {
   "cell_type": "markdown",
   "metadata": {},
   "source": [
    "## Індивідуальне завдання №3\n",
    "\n",
    "Написати функцію **check_three**, яка із трьох заданих цілих чисел повертає **True**, якщо їх сума дорівнює 51, або, якщо одне із них дорівнює 51. В інакшому випадку функція **check_three** повертає **False**.\n",
    "\n",
    "Тести:\n",
    "\n",
    "check_three(15,15,21) --> True\n",
    "\n",
    "check_three(12,51,10) --> True\n",
    "\n",
    "check_three(17,17,18) --> False"
   ]
  },
  {
   "cell_type": "code",
   "execution_count": 9,
   "metadata": {},
   "outputs": [],
   "source": [
    "# код Індивідуального завдання №3 тут\n",
    "def check_three(num1,num2,num3):\n",
    "    if (num1+num2+num3==51):\n",
    "        return num1+num2+num3==51\n",
    "    elif(num1==51):\n",
    "        return num1==51\n",
    "    elif(num2==51):\n",
    "        return num2==51\n",
    "    elif(num3==51):\n",
    "        return num3==51\n",
    "    else:\n",
    "        return 2 == 3"
   ]
  },
  {
   "cell_type": "code",
   "execution_count": 10,
   "metadata": {},
   "outputs": [
    {
     "data": {
      "text/plain": [
       "True"
      ]
     },
     "execution_count": 10,
     "metadata": {},
     "output_type": "execute_result"
    }
   ],
   "source": [
    "# код Індивідуального завдання №3 тут\n",
    "check_three(15,15,21)"
   ]
  },
  {
   "cell_type": "code",
   "execution_count": 11,
   "metadata": {},
   "outputs": [
    {
     "data": {
      "text/plain": [
       "True"
      ]
     },
     "execution_count": 11,
     "metadata": {},
     "output_type": "execute_result"
    }
   ],
   "source": [
    "# код Індивідуального завдання №3 тут\n",
    "check_three(12,51,10)"
   ]
  },
  {
   "cell_type": "code",
   "execution_count": 12,
   "metadata": {},
   "outputs": [
    {
     "data": {
      "text/plain": [
       "False"
      ]
     },
     "execution_count": 12,
     "metadata": {},
     "output_type": "execute_result"
    }
   ],
   "source": [
    "# код Індивідуального завдання №3 тут\n",
    "check_three(17,17,18)"
   ]
  },
  {
   "cell_type": "markdown",
   "metadata": {},
   "source": [
    "## Індивідуальне завдання №4\n",
    "\n",
    "Написати функцію **reverse_sentence**, яка для заданого речення видає його реверсивне представлення \n",
    "\n",
    "Тести:\n",
    "\n",
    "reverse_sentence('Книги — морська глибина') --> 'Глибина морська — книги'\n",
    "\n",
    "reverse_sentence('Кожен — коваль своєї долі') --> 'Долі своєї коваль — кожен'"
   ]
  },
  {
   "cell_type": "code",
   "execution_count": 13,
   "metadata": {},
   "outputs": [],
   "source": [
    "def reverse_sentence(text):  \n",
    "    words = text.split(' ')  \n",
    "    rever_sentence = ' '.join(reversed(words))  \n",
    "    return rever_sentence.capitalize()  "
   ]
  },
  {
   "cell_type": "code",
   "execution_count": 14,
   "metadata": {},
   "outputs": [
    {
     "data": {
      "text/plain": [
       "'Глибина морська — книги'"
      ]
     },
     "execution_count": 14,
     "metadata": {},
     "output_type": "execute_result"
    }
   ],
   "source": [
    "# код Індивідуального завдання №4 тут\n",
    "reverse_sentence('Книги — морська глибина')"
   ]
  },
  {
   "cell_type": "code",
   "execution_count": 15,
   "metadata": {},
   "outputs": [
    {
     "data": {
      "text/plain": [
       "'Долі своєї коваль — кожен'"
      ]
     },
     "execution_count": 15,
     "metadata": {},
     "output_type": "execute_result"
    }
   ],
   "source": [
    "# код Індивідуального завдання №4 тут\n",
    "reverse_sentence('Кожен — коваль своєї долі')"
   ]
  },
  {
   "cell_type": "markdown",
   "metadata": {},
   "source": [
    "## Індивідуальне завдання №5\n",
    "\n",
    "Написати функцію **neighbor_numbers**, яка для заданого списку цілих чисел від 0 до 9 повертає **True**, якщо у будь-якому місці цього списку підряд ідуть будь-які дві однакові цифри, що належать інтервалу від 0 до 9.   \n",
    "\n",
    "Тести:\n",
    "\n",
    "neighbor_numbers([9, 6, 4, 4, 5]) --> True\n",
    "\n",
    "neighbor_numbers([1, 2, 3, 4, 5, 6]) --> False\n",
    "\n",
    "neighbor_numbers([9, 6, 6, 3]) --> True\n",
    "\n",
    "neighbor_numbers([6, 8, 7, 4, 1, 6]) --> False"
   ]
  },
  {
   "cell_type": "code",
   "execution_count": 17,
   "metadata": {},
   "outputs": [],
   "source": [
    "# код Індивідуального завдання №5 тут\n",
    "def neighbor_numbers(nums):\n",
    "    numbers = list(nums)\n",
    "    for i in range(0, len(numbers) - 1):\n",
    "        if numbers[i] == numbers[i + 1]:\n",
    "            return True\n",
    "    return False\n"
   ]
  },
  {
   "cell_type": "code",
   "execution_count": 18,
   "metadata": {},
   "outputs": [
    {
     "data": {
      "text/plain": [
       "True"
      ]
     },
     "execution_count": 18,
     "metadata": {},
     "output_type": "execute_result"
    }
   ],
   "source": [
    "# код Індивідуального завдання №5 тут\n",
    "neighbor_numbers([9, 6, 4, 4, 5]) "
   ]
  },
  {
   "cell_type": "code",
   "execution_count": 19,
   "metadata": {},
   "outputs": [
    {
     "data": {
      "text/plain": [
       "False"
      ]
     },
     "execution_count": 19,
     "metadata": {},
     "output_type": "execute_result"
    }
   ],
   "source": [
    "# код Індивідуального завдання №5 тут\n",
    "neighbor_numbers([1, 2, 3, 4, 5, 6])"
   ]
  },
  {
   "cell_type": "code",
   "execution_count": 20,
   "metadata": {},
   "outputs": [
    {
     "data": {
      "text/plain": [
       "True"
      ]
     },
     "execution_count": 20,
     "metadata": {},
     "output_type": "execute_result"
    }
   ],
   "source": [
    "# код Індивідуального завдання №5 тут\n",
    "neighbor_numbers([9, 6, 6, 3]) "
   ]
  },
  {
   "cell_type": "code",
   "execution_count": 21,
   "metadata": {},
   "outputs": [
    {
     "data": {
      "text/plain": [
       "False"
      ]
     },
     "execution_count": 21,
     "metadata": {},
     "output_type": "execute_result"
    }
   ],
   "source": [
    "# код Індивідуального завдання №5 тут\n",
    "neighbor_numbers([6, 8, 7, 4, 1, 6]) "
   ]
  },
  {
   "cell_type": "markdown",
   "metadata": {},
   "source": [
    "## Індивідуальне завдання №6\n",
    "\n",
    "Написати функцію **check_palindrome** перевірки, чи є слово **паліндромом**. **Паліндромом** є слово, яке читається однаково зліва направо і справа наліво.\n",
    "\n",
    "Тести:\n",
    "\n",
    "check_palindrome('каяак') --> True \n",
    "\n",
    "check_palindrome('saippuakivikauppias') --> True\n",
    "\n",
    "check_palindrome('опера') --> False\n",
    "\n",
    "check_palindrome('лимузин изумил') --> True "
   ]
  },
  {
   "cell_type": "code",
   "execution_count": 31,
   "metadata": {},
   "outputs": [],
   "source": [
    "# код Індивідуального завдання №6 тут\n",
    "def check_palindrome(word):\n",
    "    return word == word[::-1]"
   ]
  },
  {
   "cell_type": "code",
   "execution_count": 65,
   "metadata": {},
   "outputs": [
    {
     "data": {
      "text/plain": [
       "True"
      ]
     },
     "execution_count": 65,
     "metadata": {},
     "output_type": "execute_result"
    }
   ],
   "source": [
    "# код Індивідуального завдання №6 тут\n",
    "check_palindrome('каяак')"
   ]
  },
  {
   "cell_type": "code",
   "execution_count": 66,
   "metadata": {},
   "outputs": [
    {
     "data": {
      "text/plain": [
       "False"
      ]
     },
     "execution_count": 66,
     "metadata": {},
     "output_type": "execute_result"
    }
   ],
   "source": [
    "# код Індивідуального завдання №6 тут\n",
    "check_palindrome('опера')"
   ]
  },
  {
   "cell_type": "code",
   "execution_count": 67,
   "metadata": {},
   "outputs": [
    {
     "data": {
      "text/plain": [
       "True"
      ]
     },
     "execution_count": 67,
     "metadata": {},
     "output_type": "execute_result"
    }
   ],
   "source": [
    "# код Індивідуального завдання №6 тут\n",
    "check_palindrome('saippuakivikauppias')"
   ]
  },
  {
   "cell_type": "code",
   "execution_count": 68,
   "metadata": {},
   "outputs": [
    {
     "data": {
      "text/plain": [
       "False"
      ]
     },
     "execution_count": 68,
     "metadata": {},
     "output_type": "execute_result"
    }
   ],
   "source": [
    "# код Індивідуального завдання №6 тут\n",
    "check_palindrome('лимузин изумил')"
   ]
  },
  {
   "cell_type": "markdown",
   "metadata": {},
   "source": [
    "## Індивідуальне завдання №7\n",
    "\n",
    "Написати функцію **agent_007**, яка повертає **True**, якщо у послідовності цілих чисел списку, **послідновно**, зліва направо зустрічається наступна послідовність чисел - **007**  \n",
    "\n",
    "Тести:\n",
    "\n",
    "agent_007([8,9,0,0,0,7,1]) --> True\n",
    "\n",
    "agent_007([7,0,3,4,0,6,2,7]) --> True\n",
    "\n",
    "agent_007([1,7,2,7,0,3,5,0,4]) --> False"
   ]
  },
  {
   "cell_type": "code",
   "execution_count": 84,
   "metadata": {},
   "outputs": [],
   "source": [
    "# код Індивідуального завдання №7 тут\n",
    "def agent_007(nums):\n",
    "    numbers=str(nums)\n",
    "    if \"0, 0, 7\" in numbers:\n",
    "        return True\n",
    "    return False\n",
    "        "
   ]
  },
  {
   "cell_type": "code",
   "execution_count": 85,
   "metadata": {},
   "outputs": [
    {
     "data": {
      "text/plain": [
       "True"
      ]
     },
     "execution_count": 85,
     "metadata": {},
     "output_type": "execute_result"
    }
   ],
   "source": [
    "# код Індивідуального завдання №7 тут\n",
    "agent_007([8,9,0,0,0,7,1])"
   ]
  },
  {
   "cell_type": "code",
   "execution_count": null,
   "metadata": {},
   "outputs": [],
   "source": [
    "# код Індивідуального завдання №7 тут\n",
    "agent_007([7,0,3,4,0,6,2,7])"
   ]
  },
  {
   "cell_type": "code",
   "execution_count": null,
   "metadata": {},
   "outputs": [],
   "source": [
    "# код Індивідуального завдання №7 тут\n",
    "agent_007([1,7,2,7,0,3,5,0,4])"
   ]
  },
  {
   "cell_type": "markdown",
   "metadata": {},
   "source": [
    "## Індивідуальне завдання №8\n",
    "Написати функцію **unique_number**, яка видає в зростаючому порядку список унікальних (без повторення) цілих чисел із заданого списку цілих чисел. \n",
    "\n",
    "Тест:\n",
    "\n",
    "Заданий список цілих чисел: [7, 4, 5, 7, 4, 1, 6, 8, 1, 4, 5, 1, 7]\n",
    "\n",
    "Результат - список унікальних чисел   : [1, 4, 5, 7]"
   ]
  },
  {
   "cell_type": "code",
   "execution_count": 117,
   "metadata": {},
   "outputs": [],
   "source": [
    "# код Індивідуального завдання №8 тут\n",
    "def unique_number(lst):\n",
    "    set_res=set(lst)\n",
    "    list_res=list(set(lst))\n",
    "    print(list_res)"
   ]
  },
  {
   "cell_type": "code",
   "execution_count": 118,
   "metadata": {},
   "outputs": [
    {
     "name": "stdout",
     "output_type": "stream",
     "text": [
      "[4, 5, 6, 7, 8]\n"
     ]
    }
   ],
   "source": [
    "# код Індивідуального завдання №8 тут\n",
    "unique_number([7, 4, 5, 7, 4, 6, 8, 4, 5, 7])"
   ]
  },
  {
   "cell_type": "markdown",
   "metadata": {},
   "source": [
    "## Індивідуальне завдання №9\n",
    "Написати функції **word_upper** і **word_low**, які видають кількість **великих** і **малих** літер із введеного з консолі речення.\n",
    "\n",
    "Тест.\n",
    "\n",
    "Приклад введеної з консолі фрази : \"Функція Виконується Лише Тоді, Коли Вона Викликається в Програмі\"\n",
    "\n",
    "Результат:\n",
    "- Великих літер: 8 \n",
    "- Малих літер : 47"
   ]
  },
  {
   "cell_type": "code",
   "execution_count": 3,
   "metadata": {},
   "outputs": [
    {
     "name": "stdout",
     "output_type": "stream",
     "text": [
      "Василь\n",
      "5\n"
     ]
    }
   ],
   "source": [
    "# код Індивідуального завдання №9 тут \n",
    "def word_lower():\n",
    "    s = input()\n",
    "    let_s = 0\n",
    "    for i in s:\n",
    "        if 'а' <= i <= 'я':\n",
    "            let_s += 1\n",
    "    print(let_s)\n",
    "\n",
    "word_lower()\n"
   ]
  },
  {
   "cell_type": "code",
   "execution_count": 4,
   "metadata": {},
   "outputs": [
    {
     "name": "stdout",
     "output_type": "stream",
     "text": [
      "\"Функція Виконується Лише Тоді, Коли Вона Викликається в Програмі\"\n",
      "8\n"
     ]
    }
   ],
   "source": [
    "# код Індивідуального завдання №9 тут\n",
    "def word_upper():\n",
    "    s = input()\n",
    "    let_s = 0\n",
    "    for i in s:\n",
    "        if 'А' <= i <= 'Я':\n",
    "            let_s += 1\n",
    "    print(let_s)\n",
    "\n",
    "\n",
    "word_upper()"
   ]
  },
  {
   "cell_type": "markdown",
   "metadata": {},
   "source": [
    "## Індивідуальне завдання №10\n",
    "\n",
    "Написати функцію **number_multiplication**, яка перемножує всі елементи заданого списку цілих чисел \n",
    "\n",
    "Тести: \n",
    "\n",
    "Заданий список цілих чисел: [4, 3, 2, -1]\n",
    "- Результат : -24 \n",
    "\n",
    "Заданий список цілих чисел: [8, 6, 9, 0]\n",
    "- Результат : 0 "
   ]
  },
  {
   "cell_type": "code",
   "execution_count": 10,
   "metadata": {},
   "outputs": [],
   "source": [
    "# код Індивідуального завдання №10 тут\n",
    "def number_multiplication(numbers):  \n",
    "    product = 1\n",
    "    for x in numbers:\n",
    "        product=product*x\n",
    "    print(product)"
   ]
  },
  {
   "cell_type": "code",
   "execution_count": 11,
   "metadata": {},
   "outputs": [
    {
     "name": "stdout",
     "output_type": "stream",
     "text": [
      "-24\n"
     ]
    }
   ],
   "source": [
    "# код Індивідуального завдання №10 тут\n",
    "number_multiplication([4, 3, 2, -1])"
   ]
  },
  {
   "cell_type": "code",
   "execution_count": 12,
   "metadata": {},
   "outputs": [
    {
     "name": "stdout",
     "output_type": "stream",
     "text": [
      "0\n"
     ]
    }
   ],
   "source": [
    "# код Індивідуального завдання №10 тут\n",
    "number_multiplication([8, 6, 9, 0])"
   ]
  },
  {
   "cell_type": "code",
   "execution_count": null,
   "metadata": {},
   "outputs": [],
   "source": []
  }
 ],
 "metadata": {
  "kernelspec": {
   "display_name": "conda_python3",
   "language": "python",
   "name": "conda_python3"
  },
  "language_info": {
   "codemirror_mode": {
    "name": "ipython",
    "version": 3
   },
   "file_extension": ".py",
   "mimetype": "text/x-python",
   "name": "python",
   "nbconvert_exporter": "python",
   "pygments_lexer": "ipython3",
   "version": "3.6.10"
  },
  "name": "seminar2_part1_variables_strings_numbers.ipynb"
 },
 "nbformat": 4,
 "nbformat_minor": 1
}
